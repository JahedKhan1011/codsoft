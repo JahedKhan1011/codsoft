{
  "nbformat": 4,
  "nbformat_minor": 0,
  "metadata": {
    "colab": {
      "provenance": [],
      "toc_visible": true
    },
    "kernelspec": {
      "name": "python3",
      "display_name": "Python 3"
    },
    "language_info": {
      "name": "python"
    }
  },
  "cells": [
    {
      "cell_type": "markdown",
      "source": [
        "#TO-DO LIST-TASK 1\n",
        "\n",
        "\n",
        "\n"
      ],
      "metadata": {
        "id": "ZSmjD0YgavSp"
      }
    },
    {
      "cell_type": "markdown",
      "source": [
        "\n",
        "\n",
        "A To-Do List application is a useful project that helps users manage\n",
        "and organize their tasks efficiently. This project aims to create a\n",
        "command-line or GUI-based application using Python, allowing\n",
        "\n",
        "users to create, update, and track their to-do lists"
      ],
      "metadata": {
        "id": "ELg2Gtf4a6mf"
      }
    },
    {
      "cell_type": "code",
      "source": [
        "class TodoList:\n",
        "    def __init__(self):\n",
        "        self.tasks = []\n",
        "\n",
        "    def add_task(self, task):\n",
        "        self.tasks.append(task)\n",
        "        print(\"Task added successfully!\")\n",
        "\n",
        "    def remove_task(self, task_index):\n",
        "        try:\n",
        "            del self.tasks[task_index]\n",
        "            print(\"Task removed successfully!\")\n",
        "        except IndexError:\n",
        "            print(\"Task index out of range!\")\n",
        "\n",
        "    def display_tasks(self):\n",
        "        if self.tasks:\n",
        "            print(\"Tasks:\")\n",
        "            for index, task in enumerate(self.tasks):\n",
        "                print(f\"{index + 1}. {task}\")\n",
        "        else:\n",
        "            print(\"No tasks to display.\")\n",
        "\n",
        "def main():\n",
        "    todo_list = TodoList()\n",
        "\n",
        "    while True:\n",
        "        print(\"\\nTo-Do List Menu:\")\n",
        "        print(\"1. Add Task\")\n",
        "        print(\"2. Remove Task\")\n",
        "        print(\"3. View Tasks\")\n",
        "        print(\"4. Exit\")\n",
        "\n",
        "        choice = input(\"Enter your choice (1/2/3/4): \")\n",
        "\n",
        "        if choice == '1':\n",
        "            task = input(\"Enter task: \")\n",
        "            todo_list.add_task(task)\n",
        "        elif choice == '2':\n",
        "            task_index = int(input(\"Enter task index to remove: \")) - 1\n",
        "            todo_list.remove_task(task_index)\n",
        "        elif choice == '3':\n",
        "            todo_list.display_tasks()\n",
        "        elif choice == '4':\n",
        "            print(\"Exiting the To-Do List application. Goodbye!\")\n",
        "            break\n",
        "        else:\n",
        "            print(\"Invalid choice. Please enter a valid option.\")\n",
        "\n",
        "if __name__ == \"__main__\":\n",
        "    main()\n"
      ],
      "metadata": {
        "colab": {
          "base_uri": "https://localhost:8080/"
        },
        "id": "od5Herd3IPE4",
        "outputId": "32a785b0-180c-489e-e6d1-c6d7e4507f88"
      },
      "execution_count": 8,
      "outputs": [
        {
          "output_type": "stream",
          "name": "stdout",
          "text": [
            "\n",
            "To-Do List Menu:\n",
            "1. Add Task\n",
            "2. Remove Task\n",
            "3. View Tasks\n",
            "4. Exit\n",
            "Enter your choice (1/2/3/4): 1\n",
            "Enter task: add breakfast\n",
            "Task added successfully!\n",
            "\n",
            "To-Do List Menu:\n",
            "1. Add Task\n",
            "2. Remove Task\n",
            "3. View Tasks\n",
            "4. Exit\n",
            "Enter your choice (1/2/3/4): 3\n",
            "Tasks:\n",
            "1. add breakfast\n",
            "\n",
            "To-Do List Menu:\n",
            "1. Add Task\n",
            "2. Remove Task\n",
            "3. View Tasks\n",
            "4. Exit\n",
            "Enter your choice (1/2/3/4): 4\n",
            "Exiting the To-Do List application. Goodbye!\n"
          ]
        }
      ]
    },
    {
      "cell_type": "markdown",
      "source": [
        "#  Calculator Task 2"
      ],
      "metadata": {
        "id": "K4BpYqf1axun"
      }
    },
    {
      "cell_type": "markdown",
      "source": [
        "Design a simple calculator with basic arithmetic operations.\n",
        "Prompt the user to input two numbers and an operation choice.\n",
        "\n",
        "Perform the calculation and display the result."
      ],
      "metadata": {
        "id": "1K9bEEZubRdi"
      }
    },
    {
      "cell_type": "code",
      "execution_count": 10,
      "metadata": {
        "colab": {
          "base_uri": "https://localhost:8080/"
        },
        "id": "G0ykx1-JGOm-",
        "outputId": "848abffd-77cb-47da-ac8d-83fb8bdbddfb"
      },
      "outputs": [
        {
          "output_type": "stream",
          "name": "stdout",
          "text": [
            "Select operation:\n",
            "1. Add\n",
            "2. Subtract\n",
            "3. Multiply\n",
            "4. Divide\n",
            "Enter choice (1/2/3/4): 4\n",
            "Enter first number: 75\n",
            "Enter second number: 3\n",
            "75.0 / 3.0 = 25.0\n"
          ]
        }
      ],
      "source": [
        "# Function to add two numbers\n",
        "def add(x, y):\n",
        "    return x + y\n",
        "\n",
        "# Function to subtract two numbers\n",
        "def subtract(x, y):\n",
        "    return x - y\n",
        "\n",
        "# Function to multiply two numbers\n",
        "def multiply(x, y):\n",
        "    return x * y\n",
        "\n",
        "# Function to divide two numbers\n",
        "def divide(x, y):\n",
        "    if y == 0:\n",
        "        return \"Error! Division by zero.\"\n",
        "    else:\n",
        "        return x / y\n",
        "\n",
        "print(\"Select operation:\")\n",
        "print(\"1. Add\")\n",
        "print(\"2. Subtract\")\n",
        "print(\"3. Multiply\")\n",
        "print(\"4. Divide\")\n",
        "\n",
        "# Take input from the user\n",
        "choice = input(\"Enter choice (1/2/3/4): \")\n",
        "\n",
        "num1 = float(input(\"Enter first number: \"))\n",
        "num2 = float(input(\"Enter second number: \"))\n",
        "\n",
        "if choice == '1':\n",
        "    print(num1, \"+\", num2, \"=\", add(num1, num2))\n",
        "elif choice == '2':\n",
        "    print(num1, \"-\", num2, \"=\", subtract(num1, num2))\n",
        "elif choice == '3':\n",
        "    print(num1, \"*\", num2, \"=\", multiply(num1, num2))\n",
        "elif choice == '4':\n",
        "    print(num1, \"/\", num2, \"=\", divide(num1, num2))\n",
        "else:\n",
        "    print(\"Invalid input\")"
      ]
    },
    {
      "cell_type": "code",
      "source": [],
      "metadata": {
        "id": "gMndPdyaPMy3"
      },
      "execution_count": null,
      "outputs": []
    },
    {
      "cell_type": "markdown",
      "source": [
        "# Password Generator-TASK 3"
      ],
      "metadata": {
        "id": "RZqZsVHfbsk2"
      }
    },
    {
      "cell_type": "markdown",
      "source": [
        "A password generator is a useful tool that generates strong and\n",
        "\n",
        "random passwords for users. This project aims to create a\n",
        "password generator application using Python, allowing users to\n",
        "\n",
        "specify the length and complexity of the password.\n",
        "\n",
        "User Input: Prompt the user to specify the desired length of the\n",
        "\n",
        "password.\n",
        "\n",
        "Generate Password: Use a combination of random characters to\n",
        "\n",
        "generate a password of the specified length.\n",
        "\n",
        "Display the Password: Print the generated password on the screen."
      ],
      "metadata": {
        "id": "wf55m9jpcGKj"
      }
    },
    {
      "cell_type": "code",
      "source": [
        "import random\n",
        "import string\n",
        "\n",
        "def generate_password(length):\n",
        "    characters = string.ascii_letters + string.digits + string.punctuation\n",
        "    password = ''.join(random.choice(characters) for _ in range(length))\n",
        "    return password\n",
        "\n",
        "def main():\n",
        "    print(\"Welcome to Password Generator\")\n",
        "    while True:\n",
        "        try:\n",
        "            length = int(input(\"Enter the desired length of the password: \"))\n",
        "            if length <= 0:\n",
        "                raise ValueError\n",
        "            break\n",
        "        except ValueError:\n",
        "            print(\"Please enter a valid positive integer for the password length.\")\n",
        "\n",
        "    password = generate_password(length)\n",
        "    print(\"Generated Password:\", password)\n",
        "\n",
        "if __name__ == \"__main__\":\n",
        "    main()\n"
      ],
      "metadata": {
        "colab": {
          "base_uri": "https://localhost:8080/"
        },
        "id": "MavvW6fKbrlh",
        "outputId": "ff963148-c4ec-4a55-9663-8660b1697693"
      },
      "execution_count": 11,
      "outputs": [
        {
          "output_type": "stream",
          "name": "stdout",
          "text": [
            "Welcome to Password Generator\n",
            "Enter the desired length of the password: 4\n",
            "Generated Password: j050\n"
          ]
        }
      ]
    },
    {
      "cell_type": "markdown",
      "source": [
        "# Rock-Paper-Scissors Game-TASK4"
      ],
      "metadata": {
        "id": "NMpjLVxObXTa"
      }
    },
    {
      "cell_type": "markdown",
      "source": [
        "User Input: Prompt the user to choose rock, paper, or scissors.\n",
        "\n",
        "Computer Selection: Generate a random choice (rock, paper, or scissors) for\n",
        "\n",
        "the computer.\n",
        "\n",
        "Game Logic: Determine the winner based on the user's choice and the\n",
        "\n",
        "computer's choice.\n",
        "\n",
        "Rock beats scissors, scissors beat paper, and paper beats rock.\n",
        "Display Result: Show the user's choice and the computer's choice.\n",
        "\n",
        "Display the result, whether the user wins, loses, or it's a tie.\n",
        "\n",
        "Score Tracking (Optional): Keep track of the user's and computer's scores for\n",
        "\n",
        "multiple rounds.\n",
        "\n",
        "Play Again: Ask the user if they want to play another round.\n",
        "\n",
        "User Interface: Design a user-friendly interface with clear instructions and\n",
        "\n",
        "feedback."
      ],
      "metadata": {
        "id": "kcVRanWRbhQz"
      }
    },
    {
      "cell_type": "code",
      "source": [
        "import random\n",
        "\n",
        "def determine_winner(user_choice, computer_choice):\n",
        "    if user_choice == computer_choice:\n",
        "        return \"It's a tie!\"\n",
        "    elif (user_choice == 'rock' and computer_choice == 'scissors') or \\\n",
        "         (user_choice == 'scissors' and computer_choice == 'paper') or \\\n",
        "         (user_choice == 'paper' and computer_choice == 'rock'):\n",
        "        return \"You win!\"\n",
        "    else:\n",
        "        return \"You lose!\"\n",
        "\n",
        "def play_game():\n",
        "    print(\"Welcome to Rock, Paper, Scissors!\")\n",
        "    user_score = 0\n",
        "    computer_score = 0\n",
        "\n",
        "    while True:\n",
        "        print(\"\\nChoose your weapon: rock, paper, or scissors\")\n",
        "        user_choice = input(\"Your choice: \").lower()\n",
        "\n",
        "        if user_choice not in ['rock', 'paper', 'scissors']:\n",
        "            print(\"Invalid choice! Please choose rock, paper, or scissors.\")\n",
        "            continue\n",
        "\n",
        "        computer_choice = random.choice(['rock', 'paper', 'scissors'])\n",
        "        print(\"Computer chose:\", computer_choice)\n",
        "\n",
        "        result = determine_winner(user_choice, computer_choice)\n",
        "        print(result)\n",
        "\n",
        "        if result == \"You win!\":\n",
        "            user_score += 1\n",
        "        elif result == \"You lose!\":\n",
        "            computer_score += 1\n",
        "\n",
        "        print(f\"Score - You: {user_score}, Computer: {computer_score}\")\n",
        "\n",
        "        play_again = input(\"Do you want to play again? (yes/no): \").lower()\n",
        "        if play_again != 'yes':\n",
        "            print(\"Thanks for playing!\")\n",
        "            break\n",
        "\n",
        "if __name__ == \"__main__\":\n",
        "    play_game()\n"
      ],
      "metadata": {
        "colab": {
          "base_uri": "https://localhost:8080/"
        },
        "id": "8O5tUlM4N9Fj",
        "outputId": "89830ace-7b20-4f92-a5b5-f3ccb831863b"
      },
      "execution_count": 12,
      "outputs": [
        {
          "output_type": "stream",
          "name": "stdout",
          "text": [
            "Welcome to Rock, Paper, Scissors!\n",
            "\n",
            "Choose your weapon: rock, paper, or scissors\n",
            "Your choice: paper\n",
            "Computer chose: rock\n",
            "You win!\n",
            "Score - You: 1, Computer: 0\n",
            "Do you want to play again? (yes/no): yes\n",
            "\n",
            "Choose your weapon: rock, paper, or scissors\n",
            "Your choice: paper\n",
            "Computer chose: scissors\n",
            "You lose!\n",
            "Score - You: 1, Computer: 1\n",
            "Do you want to play again? (yes/no): yes\n",
            "\n",
            "Choose your weapon: rock, paper, or scissors\n",
            "Your choice: rock\n",
            "Computer chose: scissors\n",
            "You win!\n",
            "Score - You: 2, Computer: 1\n",
            "Do you want to play again? (yes/no): yes\n",
            "\n",
            "Choose your weapon: rock, paper, or scissors\n",
            "Your choice: scissor\n",
            "Invalid choice! Please choose rock, paper, or scissors.\n",
            "\n",
            "Choose your weapon: rock, paper, or scissors\n",
            "Your choice: scissors\n",
            "Computer chose: scissors\n",
            "It's a tie!\n",
            "Score - You: 2, Computer: 1\n",
            "Do you want to play again? (yes/no): yes\n",
            "\n",
            "Choose your weapon: rock, paper, or scissors\n",
            "Your choice: rock\n",
            "Computer chose: scissors\n",
            "You win!\n",
            "Score - You: 3, Computer: 1\n",
            "Do you want to play again? (yes/no): no\n",
            "Thanks for playing!\n"
          ]
        }
      ]
    },
    {
      "cell_type": "markdown",
      "source": [
        "# Contact Book-TASK5"
      ],
      "metadata": {
        "id": "QHL1oPuLcZUe"
      }
    },
    {
      "cell_type": "markdown",
      "source": [
        "Contact Information: Store name, phone number, email, and address for each contact.\n",
        "\n",
        "Add Contact: Allow users to add new contacts with their details.\n",
        "\n",
        "View Contact List: Display a list of all saved contacts with names and phone numbers.\n",
        "Search Contact: Implement a search function to find contacts by name or phone number.\n",
        "\n",
        "Update Contact: Enable users to update contact details.\n",
        "Delete Contact: Provide an option to delete a contact.\n",
        "\n",
        "User Interface: Design a user-friendly interface for easy interaction."
      ],
      "metadata": {
        "id": "SG66GQxtcpGE"
      }
    },
    {
      "cell_type": "code",
      "source": [
        "class ContactManager:\n",
        "    def __init__(self):\n",
        "        self.contacts = {}\n",
        "\n",
        "    def add_contact(self, name, phone_number, email, address):\n",
        "        self.contacts[name] = {'phone_number': phone_number, 'email': email, 'address': address}\n",
        "        print(f\"Contact '{name}' added successfully!\")\n",
        "\n",
        "    def view_contact_list(self):\n",
        "        if self.contacts:\n",
        "            print(\"Contact List:\")\n",
        "            for name, details in self.contacts.items():\n",
        "                print(f\"Name: {name}, Phone: {details['phone_number']}\")\n",
        "        else:\n",
        "            print(\"Contact list is empty.\")\n",
        "\n",
        "    def search_contact(self, query):\n",
        "        found_contacts = []\n",
        "        for name, details in self.contacts.items():\n",
        "            if query in name or query in details['phone_number']:\n",
        "                found_contacts.append((name, details))\n",
        "        if found_contacts:\n",
        "            print(\"Found Contacts:\")\n",
        "            for name, details in found_contacts:\n",
        "                print(f\"Name: {name}, Phone: {details['phone_number']}, Email: {details['email']}, Address: {details['address']}\")\n",
        "        else:\n",
        "            print(\"No matching contacts found.\")\n",
        "\n",
        "    def update_contact(self, name, phone_number, email, address):\n",
        "        if name in self.contacts:\n",
        "            self.contacts[name] = {'phone_number': phone_number, 'email': email, 'address': address}\n",
        "            print(f\"Contact '{name}' updated successfully!\")\n",
        "        else:\n",
        "            print(f\"Contact '{name}' not found.\")\n",
        "\n",
        "    def delete_contact(self, name):\n",
        "        if name in self.contacts:\n",
        "            del self.contacts[name]\n",
        "            print(f\"Contact '{name}' deleted successfully!\")\n",
        "        else:\n",
        "            print(f\"Contact '{name}' not found.\")\n",
        "\n",
        "def main():\n",
        "    contact_manager = ContactManager()\n",
        "\n",
        "    while True:\n",
        "        print(\"\\nContact Management Menu:\")\n",
        "        print(\"1. Add Contact\")\n",
        "        print(\"2. View Contact List\")\n",
        "        print(\"3. Search Contact\")\n",
        "        print(\"4. Update Contact\")\n",
        "        print(\"5. Delete Contact\")\n",
        "        print(\"6. Exit\")\n",
        "\n",
        "        choice = input(\"Enter your choice (1/2/3/4/5/6): \")\n",
        "\n",
        "        if choice == '1':\n",
        "            name = input(\"Enter name: \")\n",
        "            phone_number = input(\"Enter phone number: \")\n",
        "            email = input(\"Enter email: \")\n",
        "            address = input(\"Enter address: \")\n",
        "            contact_manager.add_contact(name, phone_number, email, address)\n",
        "        elif choice == '2':\n",
        "            contact_manager.view_contact_list()\n",
        "        elif choice == '3':\n",
        "            query = input(\"Enter name or phone number to search: \")\n",
        "            contact_manager.search_contact(query)\n",
        "        elif choice == '4':\n",
        "            name = input(\"Enter name of contact to update: \")\n",
        "            phone_number = input(\"Enter new phone number: \")\n",
        "            email = input(\"Enter new email: \")\n",
        "            address = input(\"Enter new address: \")\n",
        "            contact_manager.update_contact(name, phone_number, email, address)\n",
        "        elif choice == '5':\n",
        "            name = input(\"Enter name of contact to delete: \")\n",
        "            contact_manager.delete_contact(name)\n",
        "        elif choice == '6':\n",
        "            print(\"Exiting the Contact Management System. Goodbye!\")\n",
        "            break\n",
        "        else:\n",
        "            print(\"Invalid choice. Please enter a valid option.\")\n",
        "\n",
        "if __name__ == \"__main__\":\n",
        "    main()\n"
      ],
      "metadata": {
        "colab": {
          "base_uri": "https://localhost:8080/"
        },
        "id": "tdCZbCFjc4Bb",
        "outputId": "21b3500a-fb59-4934-bd4a-fbcd7a017509"
      },
      "execution_count": 13,
      "outputs": [
        {
          "output_type": "stream",
          "name": "stdout",
          "text": [
            "\n",
            "Contact Management Menu:\n",
            "1. Add Contact\n",
            "2. View Contact List\n",
            "3. Search Contact\n",
            "4. Update Contact\n",
            "5. Delete Contact\n",
            "6. Exit\n",
            "Enter your choice (1/2/3/4/5/6): 1\n",
            "Enter name: jahed\n",
            "Enter phone number: 466738292\n",
            "Enter email: jahedkhan1011@gmail.com\n",
            "Enter address: beside rtc complex,vizianagaram\n",
            "Contact 'jahed' added successfully!\n",
            "\n",
            "Contact Management Menu:\n",
            "1. Add Contact\n",
            "2. View Contact List\n",
            "3. Search Contact\n",
            "4. Update Contact\n",
            "5. Delete Contact\n",
            "6. Exit\n",
            "Enter your choice (1/2/3/4/5/6): 2\n",
            "Contact List:\n",
            "Name: jahed, Phone: 466738292\n",
            "\n",
            "Contact Management Menu:\n",
            "1. Add Contact\n",
            "2. View Contact List\n",
            "3. Search Contact\n",
            "4. Update Contact\n",
            "5. Delete Contact\n",
            "6. Exit\n",
            "Enter your choice (1/2/3/4/5/6): 3\n",
            "Enter name or phone number to search: jahed\n",
            "Found Contacts:\n",
            "Name: jahed, Phone: 466738292, Email: jahedkhan1011@gmail.com, Address: beside rtc complex,vizianagaram\n",
            "\n",
            "Contact Management Menu:\n",
            "1. Add Contact\n",
            "2. View Contact List\n",
            "3. Search Contact\n",
            "4. Update Contact\n",
            "5. Delete Contact\n",
            "6. Exit\n",
            "Enter your choice (1/2/3/4/5/6): 4\n",
            "Enter name of contact to update: jahed\n",
            "Enter new phone number: 45372290\n",
            "Enter new email: hsjsla@jama\n",
            "Enter new address: hsn\n",
            "Contact 'jahed' updated successfully!\n",
            "\n",
            "Contact Management Menu:\n",
            "1. Add Contact\n",
            "2. View Contact List\n",
            "3. Search Contact\n",
            "4. Update Contact\n",
            "5. Delete Contact\n",
            "6. Exit\n",
            "Enter your choice (1/2/3/4/5/6): 6\n",
            "Exiting the Contact Management System. Goodbye!\n"
          ]
        }
      ]
    }
  ]
}